{
 "cells": [
  {
   "cell_type": "markdown",
   "metadata": {
    "id": "SVe9_TI3OEzz"
   },
   "source": [
    "# Домашнее задание \"Линейная алгебра. Матрицы\"."
   ]
  },
  {
   "cell_type": "markdown",
   "metadata": {
    "id": "5y1_BdobOJhL"
   },
   "source": [
    "### Уровень 0:"
   ]
  },
  {
   "cell_type": "markdown",
   "metadata": {
    "id": "T6OsnFW8Nds0"
   },
   "source": [
    " - Создайте матрицу 3 на 3, заполненную числами от 1 до 9\n",
    " - Прибавьте к ней матрицу с единицами на диагонале\n",
    " - Умножьте полученную матрицу на вектор (1, 2, 3)\n",
    " - Посчитайте обратную матрицу к полученной матрице"
   ]
  },
  {
   "cell_type": "code",
   "execution_count": 217,
   "metadata": {},
   "outputs": [
    {
     "data": {
      "text/plain": [
       "array([[1., 2., 3.],\n",
       "       [4., 5., 6.],\n",
       "       [7., 8., 9.]])"
      ]
     },
     "execution_count": 217,
     "metadata": {},
     "output_type": "execute_result"
    }
   ],
   "source": [
    "# Создайте матрицу 3 на 3, заполненную числами от 1 до 9\n",
    "import numpy as np\n",
    "A = np.arange(1., 10.).reshape(3, 3)\n",
    "A"
   ]
  },
  {
   "cell_type": "code",
   "execution_count": 218,
   "metadata": {},
   "outputs": [
    {
     "data": {
      "text/plain": [
       "array([[ 2.,  2.,  3.],\n",
       "       [ 4.,  6.,  6.],\n",
       "       [ 7.,  8., 10.]])"
      ]
     },
     "execution_count": 218,
     "metadata": {},
     "output_type": "execute_result"
    }
   ],
   "source": [
    "# Прибавьте к ней матрицу с единицами на диагонале\n",
    "B = A + np.eye(3)\n",
    "B"
   ]
  },
  {
   "cell_type": "code",
   "execution_count": 219,
   "metadata": {},
   "outputs": [
    {
     "data": {
      "text/plain": [
       "array([15., 34., 53.])"
      ]
     },
     "execution_count": 219,
     "metadata": {},
     "output_type": "execute_result"
    }
   ],
   "source": [
    "# Умножьте полученную матрицу на вектор (1, 2, 3)\n",
    "A = np.dot(B, np.array([1., 2., 3.]))\n",
    "A"
   ]
  },
  {
   "cell_type": "code",
   "execution_count": 204,
   "metadata": {},
   "outputs": [
    {
     "data": {
      "text/plain": [
       "array([[-6. , -2. ,  3. ],\n",
       "       [-1. ,  0.5,  0. ],\n",
       "       [ 5. ,  1. , -2. ]])"
      ]
     },
     "execution_count": 204,
     "metadata": {},
     "output_type": "execute_result"
    }
   ],
   "source": [
    "# Посчитайте обратную матрицу к полученной матрице\n",
    "A_inv = np.linalg.inv(B)\n",
    "A_inv"
   ]
  },
  {
   "cell_type": "markdown",
   "metadata": {
    "id": "_BAj6HboOLrk"
   },
   "source": [
    "### Уровень 1:"
   ]
  },
  {
   "cell_type": "markdown",
   "metadata": {
    "id": "RiADgeYcOPQF"
   },
   "source": [
    "Дан объект в 2d пространстве:\n",
    "\n",
    "\n",
    "\n",
    "```\n",
    "import numpy as np\n",
    "import matplotlib.pyplot as plt\n",
    "\n",
    "A = [\n",
    "[-100, -100, 1],\n",
    "[-100, 100, 1],\n",
    "[100, 100, 1],\n",
    "[0, 0, 1],\n",
    "[100, -100, 1],\n",
    "[-100, -100, 1]\n",
    "]\n",
    "\n",
    "A = np.array(A)\n",
    "x = A[:,0]\n",
    "y = A[:,1]\n",
    "\n",
    "plt.plot(x, y)\n",
    "plt.ylim([-200, 200])\n",
    "plt.xlim([-200, 200])\n",
    "```\n",
    "\n",
    "\n",
    "При помощи матричных операций выполните:\n",
    "- Уменьшить объект в два раза\n",
    "- Повернуть на 130 градусов\n",
    "- Отразить объект относительно прямой y=x\n",
    "- Выполнить смещение объекта и масштабирование (применить 2 матрицы трансформаций). Смещение на (200, 300) и масштабирование на (0.5, 1.2)\n",
    "\n"
   ]
  },
  {
   "cell_type": "code",
   "execution_count": 205,
   "metadata": {},
   "outputs": [
    {
     "data": {
      "text/plain": [
       "(-200.0, 200.0)"
      ]
     },
     "execution_count": 205,
     "metadata": {},
     "output_type": "execute_result"
    },
    {
     "data": {
      "image/png": "[encoded data removed]",
      "text/plain": [
       "<Figure size 432x288 with 1 Axes>"
      ]
     },
     "metadata": {
      "needs_background": "light"
     },
     "output_type": "display_data"
    }
   ],
   "source": [
    "import numpy as np\n",
    "import matplotlib.pyplot as plt\n",
    "\n",
    "A = [\n",
    "[-100, -100, 1],\n",
    "[-100, 100, 1],\n",
    "[100, 100, 1],\n",
    "[0, 0, 1],\n",
    "[100, -100, 1],\n",
    "[-100, -100, 1]\n",
    "]\n",
    "\n",
    "A = np.array(A)\n",
    "x = A[:,0]\n",
    "y = A[:,1]\n",
    "\n",
    "plt.plot(x, y)\n",
    "plt.ylim([-200, 200])\n",
    "plt.xlim([-200, 200])"
   ]
  },
  {
   "cell_type": "code",
   "execution_count": 206,
   "metadata": {},
   "outputs": [
    {
     "data": {
      "image/png": "[encoded data removed]",
      "text/plain": [
       "<Figure size 432x288 with 1 Axes>"
      ]
     },
     "metadata": {
      "needs_background": "light"
     },
     "output_type": "display_data"
    }
   ],
   "source": [
    "# Уменьшить объект в два раза\n",
    "B = 0.5 * A\n",
    "\n",
    "xb = B[:,0]\n",
    "yb = B[:,1]\n",
    "\n",
    "plt.plot(xb, yb)\n",
    "plt.ylim([-200, 200])\n",
    "plt.xlim([-200, 200])\n",
    "plt.grid()"
   ]
  },
  {
   "cell_type": "code",
   "execution_count": 207,
   "metadata": {},
   "outputs": [
    {
     "data": {
      "image/png": "[encoded data removed]",
      "text/plain": [
       "<Figure size 432x288 with 1 Axes>"
      ]
     },
     "metadata": {
      "needs_background": "light"
     },
     "output_type": "display_data"
    }
   ],
   "source": [
    "# Повернуть на 130 градусов\n",
    "r = np.radians(130)\n",
    "M = np.array([[np.cos(r), np.sin(r), 0, 0, 0, 0], [-(np.sin(r)), np.cos(r), 0, 0, 0, 0], [0, 0, 1, 0, 0, 0]])\n",
    "C =A@M\n",
    "xc = C[:,0]\n",
    "yc = C[:,1]\n",
    "\n",
    "plt.plot(xc, yc)\n",
    "plt.ylim([-200, 200])\n",
    "plt.xlim([-200, 200])\n",
    "plt.grid()"
   ]
  },
  {
   "cell_type": "code",
   "execution_count": 208,
   "metadata": {},
   "outputs": [
    {
     "data": {
      "image/png": "[encoded data removed]",
      "text/plain": [
       "<Figure size 432x288 with 1 Axes>"
      ]
     },
     "metadata": {
      "needs_background": "light"
     },
     "output_type": "display_data"
    }
   ],
   "source": [
    "# Отразить объект относительно прямой y=x\n",
    "T = np.array([[0, 1, 0], [1, 0, 0], [0, 0, 1]])\n",
    "D = np.dot(A, T)\n",
    "xd = D[:,0]\n",
    "yd = D[:,1]\n",
    "\n",
    "plt.plot(xd, yd)\n",
    "plt.ylim([-200, 200])\n",
    "plt.xlim([-200, 200])\n",
    "plt.grid()"
   ]
  },
  {
   "cell_type": "code",
   "execution_count": 210,
   "metadata": {},
   "outputs": [
    {
     "data": {
      "image/png": "[encoded data removed]",
      "text/plain": [
       "<Figure size 432x288 with 1 Axes>"
      ]
     },
     "metadata": {
      "needs_background": "light"
     },
     "output_type": "display_data"
    }
   ],
   "source": [
    "# Выполнить смещение объекта и масштабирование (применить 2 матрицы трансформаций).\n",
    "# Смещение на (200, 300) и масштабирование на (0.5, 1.2)\n",
    "C = np.array([[1, 0, 0], [0, 1, 0], [200, 300, 1]])\n",
    "B = np.dot(A, C)\n",
    "\n",
    "xb = B[:,0]\n",
    "yb = B[:,1]\n",
    "\n",
    "plt.plot(xb, yb)\n",
    "plt.ylim([100, 500])\n",
    "plt.xlim([0, 400])\n",
    "plt.grid()"
   ]
  },
  {
   "cell_type": "code",
   "execution_count": 211,
   "metadata": {},
   "outputs": [
    {
     "data": {
      "image/png": "[encoded data removed]",
      "text/plain": [
       "<Figure size 432x288 with 1 Axes>"
      ]
     },
     "metadata": {
      "needs_background": "light"
     },
     "output_type": "display_data"
    }
   ],
   "source": [
    "T = np.array([[0.5, 0, 0], [0, 1.2, 0],[0, 0, 1]])\n",
    "D = np.dot(B, T)\n",
    "\n",
    "x = D[:,0]\n",
    "y = D[:,1]\n",
    "\n",
    "plt.plot(x, y)\n",
    "plt.ylim([100, 500])\n",
    "plt.xlim([0, 400])\n",
    "plt.grid()"
   ]
  }
 ],
 "metadata": {
  "colab": {
   "collapsed_sections": [],
   "name": "HW_2",
   "provenance": []
  },
  "kernelspec": {
   "display_name": "Python 3",
   "language": "python",
   "name": "python3"
  },
  "language_info": {
   "codemirror_mode": {
    "name": "ipython",
    "version": 3
   },
   "file_extension": ".py",
   "mimetype": "text/x-python",
   "name": "python",
   "nbconvert_exporter": "python",
   "pygments_lexer": "ipython3",
   "version": "3.8.3"
  }
 },
 "nbformat": 4,
 "nbformat_minor": 4
}
