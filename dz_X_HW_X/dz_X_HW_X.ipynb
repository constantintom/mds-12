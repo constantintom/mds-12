{
 "cells": [
  {
   "cell_type": "markdown",
   "metadata": {
    "id": "g1hQiFW7isGe"
   },
   "source": [
    "# Итоговая работа."
   ]
  },
  {
   "cell_type": "code",
   "execution_count": 1,
   "metadata": {
    "id": "NyZ7GotDi1Mp"
   },
   "outputs": [],
   "source": [
    "import matplotlib.pyplot as plt\n",
    "import numpy as np\n",
    "\n",
    "from scipy.optimize import minimize\n",
    "%matplotlib inline"
   ]
  },
  {
   "cell_type": "markdown",
   "metadata": {
    "id": "VZFf_auXisJd"
   },
   "source": [
    "## Задание 1"
   ]
  },
  {
   "cell_type": "markdown",
   "metadata": {
    "id": "ABMPXsuhisMO"
   },
   "source": [
    "Дана матрица рейтингов фильмов (строки - пользователи (10 человек), столбцы - фильмы (15 фильмов))"
   ]
  },
  {
   "cell_type": "code",
   "execution_count": 4,
   "metadata": {
    "id": "D4_Vshevi-4P"
   },
   "outputs": [],
   "source": [
    "raitings = np.array([[ 4,  4,  9,  4,  1,  6, 10,  7,  9,  6,  9,  2,  8,  6,  6],\n",
    "                     [ 9,  2,  5, 10,  7,  8, 10,  5,  6,  2,  1,  6,  8,  9,  7],\n",
    "                     [ 1,  6,  8,  8,  4,  9,  3,  8, 10,  5,  2,  6,  8,  1,  6],\n",
    "                     [ 6,  1,  9,  7,  7,  9,  2,  3,  5,  1,  6,  6,  3,  2,  7],\n",
    "                     [ 3,  7,  3,  5,  7,  9,  9,  6,  2,  9,  1,  2,  8, 10,  6],\n",
    "                     [ 8,  3,  7,  3,  8,  6,  1,  8,  8,  6,  1,  9,  4, 10,  1],\n",
    "                     [ 9,  8,  4,  8,  8, 10,  6,  1,  1,  2,  9,  5,  2,  7,  2],\n",
    "                     [ 4,  1,  6,  4,  3, 10,  4,  4,  2,  8,  7,  9,  3,  8,  3],\n",
    "                     [ 2,  7,  7,  6, 10,  6,  8,  9,  8,  6, 10,  1,  7, 10,  4],\n",
    "                     [ 5, 10,  8,  8,  9,  7,  2,  9,  9, 10,  8,  8,  8,  6, 10]])"
   ]
  },
  {
   "cell_type": "markdown",
   "metadata": {
    "id": "FuYpBPsTjBVa"
   },
   "source": [
    "**a)** Необходимо найти наиболее похожего пользователя по косинусной метрике для каждого из (ответ: 10 пар вида (x, y), где y - наиболее похожий пользователь на пользователя x).\n",
    "\n",
    "**b)** Предположим, вы захотели сжать признаковые описания пользователя с 15 фильмов, до, скажем, 5-ти признаков, как вы это сделаете?"
   ]
  },
  {
   "cell_type": "code",
   "execution_count": 11,
   "metadata": {},
   "outputs": [
    {
     "data": {
      "text/plain": [
       "array([[0.        , 0.17397081, 0.15078471, 0.21659884, 0.18082368,\n",
       "        0.25881452, 0.27264172, 0.19032478, 0.08934018, 0.13989224],\n",
       "       [0.17397081, 0.        , 0.18765675, 0.15364663, 0.12861948,\n",
       "        0.17286893, 0.17370316, 0.19973997, 0.17473692, 0.18031873],\n",
       "       [0.15078471, 0.18765675, 0.        , 0.15330626, 0.21605701,\n",
       "        0.20902015, 0.32383777, 0.23710448, 0.17887923, 0.08126949],\n",
       "       [0.21659884, 0.15364663, 0.15330626, 0.        , 0.30846591,\n",
       "        0.21334208, 0.16725789, 0.17065333, 0.2229334 , 0.1411313 ],\n",
       "       [0.18082368, 0.12861948, 0.21605701, 0.30846591, 0.        ,\n",
       "        0.2235566 , 0.21799532, 0.18763131, 0.12051523, 0.15425211],\n",
       "       [0.25881452, 0.17286893, 0.20902015, 0.21334208, 0.2235566 ,\n",
       "        0.        , 0.25988199, 0.15548315, 0.19377124, 0.14485092],\n",
       "       [0.27264172, 0.17370316, 0.32383777, 0.16725789, 0.21799532,\n",
       "        0.25988199, 0.        , 0.17330826, 0.18869956, 0.20845282],\n",
       "       [0.19032478, 0.19973997, 0.23710448, 0.17065333, 0.18763131,\n",
       "        0.15548315, 0.17330826, 0.        , 0.2018724 , 0.16317771],\n",
       "       [0.08934018, 0.17473692, 0.17887923, 0.2229334 , 0.12051523,\n",
       "        0.19377124, 0.18869956, 0.2018724 , 0.        , 0.09906203],\n",
       "       [0.13989224, 0.18031873, 0.08126949, 0.1411313 , 0.15425211,\n",
       "        0.14485092, 0.20845282, 0.16317771, 0.09906203, 0.        ]])"
      ]
     },
     "execution_count": 11,
     "metadata": {},
     "output_type": "execute_result"
    }
   ],
   "source": [
    "from sklearn.metrics.pairwise import pairwise_distances\n",
    "pair = pairwise_distances(raitings, metric='cosine')\n",
    "pair"
   ]
  },
  {
   "cell_type": "code",
   "execution_count": 79,
   "metadata": {},
   "outputs": [
    {
     "name": "stdout",
     "output_type": "stream",
     "text": [
      " X  Y\n",
      "(9, 1)\n",
      "(5, 2)\n",
      "(10, 3)\n",
      "(10, 4)\n",
      "(9, 5)\n",
      "(10, 6)\n",
      "(4, 7)\n",
      "(6, 8)\n",
      "(1, 9)\n",
      "(3, 10)\n"
     ]
    }
   ],
   "source": [
    "# a)\n",
    "print(f' X  Y')\n",
    "for i, n in zip(pair, range(1, 11)):\n",
    "    x = []\n",
    "    j =  np.where(i ==np.min(i[np.nonzero(i)]))\n",
    "    x = (j[0][0] + 1, n)\n",
    "    print(x)"
   ]
  },
  {
   "cell_type": "code",
   "execution_count": 81,
   "metadata": {},
   "outputs": [
    {
     "data": {
      "text/plain": [
       "array([[-0.15392068,  0.03897685, -0.08412861, -0.05207884, -0.08818108],\n",
       "       [ 0.03883219,  0.0418255 , -0.01048045,  0.14348454, -0.01438538],\n",
       "       [-0.16062829, -0.15259595, -0.01146961,  0.04631443, -0.02340529],\n",
       "       [ 0.1158939 , -0.19114729, -0.08954391,  0.01776404, -0.00363253],\n",
       "       [-0.05236748,  0.20295497,  0.04563484,  0.05413314, -0.01417763],\n",
       "       [ 0.0587626 , -0.05981753,  0.20287379,  0.00743222,  0.0080498 ],\n",
       "       [ 0.26142909,  0.07974579, -0.09413029, -0.01278922,  0.03480892],\n",
       "       [ 0.11768368, -0.00034412,  0.06809684, -0.11071244, -0.0663643 ],\n",
       "       [-0.11336395,  0.10488416, -0.03824175, -0.05373503,  0.06565719],\n",
       "       [-0.11232106, -0.06448239,  0.01138915, -0.03981283,  0.10163031]])"
      ]
     },
     "execution_count": 81,
     "metadata": {},
     "output_type": "execute_result"
    }
   ],
   "source": [
    "# b)\n",
    "from sklearn import decomposition\n",
    "from sklearn.decomposition import PCA\n",
    "\n",
    "pca = decomposition.PCA(n_components=5)\n",
    "pair_reduced = pca.fit_transform(pair)\n",
    "pair_reduced"
   ]
  },
  {
   "cell_type": "code",
   "execution_count": 83,
   "metadata": {},
   "outputs": [
    {
     "data": {
      "text/plain": [
       "array([[ 5.38511506e-01, -1.65207157e-01,  3.86302260e-02,\n",
       "        -8.51519046e-02, -5.71838450e-02],\n",
       "       [ 4.89456941e-01,  4.23082376e-02,  4.19458388e-02,\n",
       "        -9.94507076e-03,  1.47210280e-01],\n",
       "       [ 5.58311131e-01, -1.76432164e-01, -1.53014483e-01,\n",
       "        -1.28918267e-02,  4.05256373e-02],\n",
       "       [ 5.51177260e-01,  1.08687344e-01, -1.91045725e-01,\n",
       "        -8.94590525e-02,  1.80799830e-02],\n",
       "       [ 5.54600226e-01, -6.51682818e-02,  2.02740637e-01,\n",
       "         4.48471965e-02,  5.12192525e-02],\n",
       "       [ 5.79141545e-01,  4.35136723e-02, -5.99032048e-02,\n",
       "         2.02305483e-01,  5.21551531e-03],\n",
       "       [ 6.18903584e-01,  2.42616856e-01,  7.99236557e-02,\n",
       "        -9.43372548e-02, -1.46474339e-02],\n",
       "       [ 5.28500083e-01,  1.14899474e-01, -1.83611948e-04,\n",
       "         6.85937092e-02, -1.09722328e-01],\n",
       "       [ 4.74006447e-01, -1.09176027e-01,  1.04794960e-01,\n",
       "        -3.79241345e-02, -5.10959268e-02],\n",
       "       [ 4.25109649e-01, -9.72289671e-02, -6.44370413e-02,\n",
       "         1.24739652e-02, -3.29407898e-02]])"
      ]
     },
     "execution_count": 83,
     "metadata": {},
     "output_type": "execute_result"
    }
   ],
   "source": [
    "from sklearn.decomposition import TruncatedSVD\n",
    "trun = decomposition.TruncatedSVD(n_components=5)\n",
    "pair_reduced = trun.fit_transform(pair)\n",
    "pair_reduced"
   ]
  },
  {
   "cell_type": "markdown",
   "metadata": {
    "id": "QRJEo5ydjFjG"
   },
   "source": [
    "## Задание 2"
   ]
  },
  {
   "cell_type": "markdown",
   "metadata": {
    "id": "39rGnTIojFlV"
   },
   "source": [
    "\n",
    "Вычислите производную $tg^2(sin(x) + cos(2x+3))$ в точке $x_0=1$ (на python и на бумаге)."
   ]
  },
  {
   "cell_type": "code",
   "execution_count": 84,
   "metadata": {},
   "outputs": [],
   "source": [
    "import numpy as np\n",
    "import matplotlib.pyplot as plt\n",
    "from scipy.misc import derivative\n",
    "from sympy import *"
   ]
  },
  {
   "cell_type": "code",
   "execution_count": 86,
   "metadata": {},
   "outputs": [],
   "source": [
    "x = symbols('x')\n",
    "exp = (tan(sin(x)))**2 + cos(2*x + 3)"
   ]
  },
  {
   "cell_type": "code",
   "execution_count": 87,
   "metadata": {},
   "outputs": [
    {
     "name": "stdout",
     "output_type": "stream",
     "text": [
      "До диффиренцирования: cos(2*x + 3) + tan(sin(x))**2\n"
     ]
    }
   ],
   "source": [
    "print(\"До диффиренцирования: {}\".format(exp))"
   ]
  },
  {
   "cell_type": "code",
   "execution_count": 88,
   "metadata": {},
   "outputs": [
    {
     "name": "stdout",
     "output_type": "stream",
     "text": [
      "Первая производная : 2*(tan(sin(x))**2 + 1)*cos(x)*tan(sin(x)) - 2*sin(2*x + 3)\n",
      "4.64084346529635\n"
     ]
    }
   ],
   "source": [
    "dif1 = diff(exp, x)\n",
    "print(\"Первая производная : {}\".format(dif1))\n",
    "print(dif1.subs(x, 1).evalf())"
   ]
  },
  {
   "cell_type": "code",
   "execution_count": 164,
   "metadata": {},
   "outputs": [
    {
     "data": {
      "text/latex": [
       "$\\displaystyle 4.64084346529781$"
      ],
      "text/plain": [
       "4.64084346529781"
      ]
     },
     "execution_count": 164,
     "metadata": {},
     "output_type": "execute_result"
    },
    {
     "data": {
      "image/png": "[encoded data removed]",
      "text/plain": [
       "<Figure size 1008x576 with 1 Axes>"
      ]
     },
     "metadata": {
      "needs_background": "light"
     },
     "output_type": "display_data"
    }
   ],
   "source": [
    "a = np.linspace(-3, 3) \n",
    "# from scipy.signal import find_peaks\n",
    "def f(x):\n",
    "    return (tan(sin(x)))**2 + cos(2*x + 3)\n",
    "\n",
    "df = [f(x) for x in a]\n",
    "df1 = [derivative(f, x, dx=1e-6, n = 1) for x in a]\n",
    "x0 = 1\n",
    "df1_ = derivative(f, x0, dx=1e-6, n = 1)\n",
    "dx = [df1_ + x*0 for x in a]\n",
    "fig, axes = plt.subplots(figsize = (14, 8))\n",
    "plt.title('График функции и её производной')\n",
    "axes.set_xlabel('Аргументы')\n",
    "axes.set_ylabel('Ординаты')\n",
    "axes.plot(a, df, 'r', lw = 3, label = 'Функция')\n",
    "axes.plot(a, df1, 'b-.', lw = 2, label = '1-я производная')\n",
    "axes.plot(a, dx, 'g--', label = f'производная в точке x0 = 1, f(x0) = {df1_:.2f}')\n",
    "axes.legend(fontsize=12)\n",
    "plt.show\n",
    "df1_"
   ]
  },
  {
   "cell_type": "markdown",
   "metadata": {
    "id": "T1y3_xiwjFpC"
   },
   "source": [
    "## Задание 3"
   ]
  },
  {
   "cell_type": "markdown",
   "metadata": {
    "id": "1EyIA1IQjU7w"
   },
   "source": [
    "Дана функция с неизвестными параметрами a и b, вам также известны значения функции fx в точках x. Найдите оптимальные параметры a, b, минимизирующие абсолютную ошибку **error**."
   ]
  },
  {
   "cell_type": "code",
   "execution_count": 165,
   "metadata": {
    "id": "eoBdc8Pwjhmk"
   },
   "outputs": [],
   "source": [
    "def f(x, a, b):\n",
    "    return np.e**a * np.sin(b*x) + x"
   ]
  },
  {
   "cell_type": "code",
   "execution_count": 166,
   "metadata": {
    "id": "nftvBKK2jho9"
   },
   "outputs": [],
   "source": [
    "x = np.array([0.        , 0.26315789, 0.52631579, 0.78947368, 1.05263158,\n",
    "              1.31578947, 1.57894737, 1.84210526, 2.10526316, 2.36842105,\n",
    "              2.63157895, 2.89473684, 3.15789474, 3.42105263, 3.68421053,\n",
    "              3.94736842, 4.21052632, 4.47368421, 4.73684211, 5.        ])"
   ]
  },
  {
   "cell_type": "code",
   "execution_count": 167,
   "metadata": {
    "id": "Dk9sBWrKjhrH"
   },
   "outputs": [],
   "source": [
    "fx = np.array([  0.        , -12.01819092, -18.90968634, -17.68786571,\n",
    "                -8.7529108 ,   4.27524517,  16.06801336,  21.81250213,\n",
    "                19.22059845,   9.48411207,  -3.22273056, -13.48576488,\n",
    "               -16.91096359, -11.95866834,  -0.58630088,  12.56873816,\n",
    "                22.12489421,  24.20292139,  18.04522521,   6.33211092])"
   ]
  },
  {
   "cell_type": "code",
   "execution_count": 168,
   "metadata": {
    "id": "X_4afDeijht2"
   },
   "outputs": [
    {
     "data": {
      "image/png": "[encoded data removed]",
      "text/plain": [
       "<Figure size 432x288 with 1 Axes>"
      ]
     },
     "metadata": {
      "needs_background": "light"
     },
     "output_type": "display_data"
    }
   ],
   "source": [
    "plt.plot(x, fx)\n",
    "plt.show()"
   ]
  },
  {
   "cell_type": "code",
   "execution_count": 169,
   "metadata": {
    "id": "oXoGpFu0i-6g"
   },
   "outputs": [],
   "source": [
    "def error(params):\n",
    "    return np.sum(np.abs(fx - f(x, params[0], params[1])))"
   ]
  },
  {
   "cell_type": "code",
   "execution_count": 219,
   "metadata": {},
   "outputs": [
    {
     "name": "stdout",
     "output_type": "stream",
     "text": [
      "237.70829388724917 a = 1.6999999999999584 b= 1.6999999999999584\n"
     ]
    }
   ],
   "source": [
    "from scipy.optimize import minimize\n",
    "\n",
    "a_ = np.arange(-10, 10, 0.1)\n",
    "b_ = np.arange(-10, 10, 0.1)\n",
    "d = []\n",
    "for a, b in zip(a_, b_):\n",
    "    res = minimize(f, x, args = (a, b), method = 'COBYLA', constraints=(), tol=None, callback=None, options={'rhobeg': 1.0, 'maxiter': 1000, 'disp': False, 'catol': 0.0002})\n",
    "    c = res.x\n",
    "    d.append((np.sum(np.abs(fx - f(c, a, b))), a, b))\n",
    "min_ = min(d)\n",
    "print(min_[0], 'a =', min_[1], 'b=', min_[2])"
   ]
  },
  {
   "cell_type": "code",
   "execution_count": 220,
   "metadata": {},
   "outputs": [
    {
     "data": {
      "image/png": "[encoded data removed]",
      "text/plain": [
       "<Figure size 432x288 with 1 Axes>"
      ]
     },
     "metadata": {
      "needs_background": "light"
     },
     "output_type": "display_data"
    }
   ],
   "source": [
    "plt.plot(x, f(x, min_[1], min_[2]))\n",
    "plt.show()\n"
   ]
  },
  {
   "cell_type": "markdown",
   "metadata": {
    "id": "4AXJ_r5UjrY5"
   },
   "source": [
    "## Задание 4"
   ]
  },
  {
   "cell_type": "markdown",
   "metadata": {
    "id": "zRnYGwhXjtQB"
   },
   "source": [
    "Создайте собственную дискретную случайную величину с 20 значениями. Сгенерируйте 1000 выборок размера 50. Посчитайте среднее для каждой выборки. Постройте гистограмму распределения средних."
   ]
  },
  {
   "cell_type": "code",
   "execution_count": 222,
   "metadata": {},
   "outputs": [
    {
     "data": {
      "text/plain": [
       "array([ 0, 18,  1, 16, 15, 12, 18, 19, 16, 15,  4,  1, 14, 11, 17,  3, 13,\n",
       "       15,  3, 12])"
      ]
     },
     "execution_count": 222,
     "metadata": {},
     "output_type": "execute_result"
    }
   ],
   "source": [
    "d = np.random.randint(20, high=None, size=20, dtype='l')\n",
    "d"
   ]
  },
  {
   "cell_type": "code",
   "execution_count": 225,
   "metadata": {},
   "outputs": [
    {
     "data": {
      "text/plain": [
       "11.56"
      ]
     },
     "execution_count": 225,
     "metadata": {},
     "output_type": "execute_result"
    }
   ],
   "source": [
    "def f():\n",
    "    return np.mean(np.random.choice(d, size=50, replace=True, p=None))\n"
   ]
  },
  {
   "cell_type": "code",
   "execution_count": 233,
   "metadata": {},
   "outputs": [
    {
     "data": {
      "text/plain": [
       "<function matplotlib.pyplot.show(close=None, block=None)>"
      ]
     },
     "execution_count": 233,
     "metadata": {},
     "output_type": "execute_result"
    },
    {
     "data": {
      "image/png": "[encoded data removed]",
      "text/plain": [
       "<Figure size 1008x576 with 1 Axes>"
      ]
     },
     "metadata": {
      "needs_background": "light"
     },
     "output_type": "display_data"
    }
   ],
   "source": [
    "fig, axes = plt.subplots(figsize = (14, 8))\n",
    "plt.title('Гистограмма распределения средних')\n",
    "axes.set_xlabel('Величина средних')\n",
    "axes.set_ylabel('Плотность')\n",
    "axes.hist([f() for n in range(1000)], bins = 50)\n",
    "plt.show"
   ]
  },
  {
   "cell_type": "markdown",
   "metadata": {
    "id": "KJWpqOvPjt1E"
   },
   "source": [
    "## Задание 5"
   ]
  },
  {
   "cell_type": "markdown",
   "metadata": {
    "id": "48ezmZDMjvIY"
   },
   "source": [
    "Найдите собственные значения и собственные вектора матрицы (на python и на бумаге):"
   ]
  },
  {
   "cell_type": "markdown",
   "metadata": {
    "id": "509GRSXskfQt"
   },
   "source": [
    "\n",
    "\n",
    "```\n",
    "m = np.array([[1, 4],\n",
    "              [1, 1]])\n",
    "print(m)\n",
    "```\n",
    "\n"
   ]
  },
  {
   "cell_type": "code",
   "execution_count": 244,
   "metadata": {},
   "outputs": [
    {
     "name": "stdout",
     "output_type": "stream",
     "text": [
      "[[1 4]\n",
      " [1 1]]\n",
      "Собственные значения\n",
      "[ 3. -1.]\n",
      " \n",
      "Собственные вектора\n",
      "[[ 0.89442719 -0.89442719]\n",
      " [ 0.4472136   0.4472136 ]]\n"
     ]
    }
   ],
   "source": [
    "from numpy import linalg as la\n",
    "m = np.array([[1, 4], [1, 1]])\n",
    "print(m)\n",
    "# Найдём собственные значения и вектора \n",
    "w, v = la.eig(m)\n",
    "print('Собственные значения') \n",
    "print(w, end = '\\n \\n')\n",
    "print(\"Собственные вектора\")\n",
    "print(v)\n"
   ]
  },
  {
   "cell_type": "code",
   "execution_count": 240,
   "metadata": {},
   "outputs": [
    {
     "data": {
      "text/plain": [
       "(3.0, -1.0)"
      ]
     },
     "execution_count": 240,
     "metadata": {},
     "output_type": "execute_result"
    }
   ],
   "source": [
    "# (1-lam)*(1-lam) - 4 = (1-lam)**2 - 4 = 1 - 2*lam + lam**2 - 4 = lam**2 -2*lam -3\n",
    "a = 1\n",
    "b = -2\n",
    "c = -3\n",
    "D = b**2 - 4*a*c\n",
    "lam1 = (-b + D**0.5)/(2*a)\n",
    "lam2 = (-b - D**0.5)/(2*a)\n",
    "lam1, lam2"
   ]
  },
  {
   "cell_type": "code",
   "execution_count": 251,
   "metadata": {},
   "outputs": [
    {
     "data": {
      "text/plain": [
       "(array([ 0.89442719, -0.89442719]), array([0.4472136, 0.4472136]))"
      ]
     },
     "execution_count": 251,
     "metadata": {},
     "output_type": "execute_result"
    }
   ],
   "source": [
    "m1 = np.array([[-2, 4], [1, -2]])\n",
    "m2 = np.array([[2, 4], [1, 2]])\n",
    "v1 = np.array([(2/(5)**0.5), (-2/(5)**0.5)])\n",
    "v2 = np.array([(1/(5)**0.5), (1/(5)**0.5)])\n",
    "v1, v2"
   ]
  }
 ],
 "metadata": {
  "colab": {
   "name": "HW_X",
   "provenance": []
  },
  "kernelspec": {
   "display_name": "Python 3",
   "language": "python",
   "name": "python3"
  },
  "language_info": {
   "codemirror_mode": {
    "name": "ipython",
    "version": 3
   },
   "file_extension": ".py",
   "mimetype": "text/x-python",
   "name": "python",
   "nbconvert_exporter": "python",
   "pygments_lexer": "ipython3",
   "version": "3.8.3"
  }
 },
 "nbformat": 4,
 "nbformat_minor": 4
}
