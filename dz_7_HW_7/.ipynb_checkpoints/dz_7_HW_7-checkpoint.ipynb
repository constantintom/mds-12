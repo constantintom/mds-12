{
 "cells": [
  {
   "cell_type": "markdown",
   "metadata": {
    "id": "T7ZzWaMVe71E"
   },
   "source": [
    "# Домашнее задание \"Теория вероятности. Дискретные Случайные Величины\"."
   ]
  },
  {
   "cell_type": "markdown",
   "metadata": {
    "id": "lanA1DNve73x"
   },
   "source": [
    "## Уровень 0:"
   ]
  },
  {
   "cell_type": "markdown",
   "metadata": {
    "id": "trLO6c0pfXRA"
   },
   "source": [
    "- Задание 1:"
   ]
  },
  {
   "cell_type": "markdown",
   "metadata": {
    "id": "1Fj_TgHpfXTP"
   },
   "source": [
    "Монетку подбрасывают 15 раз, найдите вероятность выпадения простого числа орлов."
   ]
  },
  {
   "cell_type": "code",
   "execution_count": 17,
   "metadata": {},
   "outputs": [
    {
     "name": "stdout",
     "output_type": "stream",
     "text": [
      "0.3499755859375\n"
     ]
    }
   ],
   "source": [
    "import math\n",
    "s = [2, 3, 5, 7, 11, 13] #Простые числа до 15\n",
    "n = 15\n",
    "p = 0\n",
    "for k in s:\n",
    "    C = math.factorial(n)/(math.factorial(k)*math.factorial(n - k))\n",
    "    p += C * (0.5**n)\n",
    "print(p)"
   ]
  },
  {
   "cell_type": "markdown",
   "metadata": {
    "id": "uqHn2CtkfXVb"
   },
   "source": [
    "- Задание 2:"
   ]
  },
  {
   "cell_type": "markdown",
   "metadata": {
    "id": "dc5gqI8gfXXk"
   },
   "source": [
    "\n",
    "Создайте свою дискретную случайную величину с не менее, чем 10 значениями. Просемплируйте 1000 случайных значений, постройте гистограмму плотности распределения по выборке, посчитайте среднее, дисперсию и медиану."
   ]
  },
  {
   "cell_type": "code",
   "execution_count": 19,
   "metadata": {},
   "outputs": [],
   "source": [
    "import numpy as np\n"
   ]
  },
  {
   "cell_type": "code",
   "execution_count": 125,
   "metadata": {},
   "outputs": [],
   "source": [
    "s = np.random.randint(low = 0, high = 10, size=None, dtype='l')\n",
    "n = 1\n",
    "p = list()\n",
    "while n < 1001:\n",
    "    s1 = np.random.randint(low = 0, high = 10, size=None, dtype='l')\n",
    "    if (s1 == s).all():     \n",
    "        p += [s1/n]\n",
    "    n +=1\n",
    "p = np.array(p)"
   ]
  },
  {
   "cell_type": "code",
   "execution_count": 126,
   "metadata": {},
   "outputs": [
    {
     "data": {
      "text/plain": [
       "(array([49., 12.,  7.,  6.,  3.,  2.,  2.,  0.,  1.,  0.,  0.,  0.,  0.,\n",
       "         1.,  0.,  0.,  0.,  0.,  0.,  0.,  0.,  0.,  0.,  0.,  0.,  0.,\n",
       "         0.,  0.,  0.,  0.,  0.,  0.,  0.,  0.,  0.,  0.,  0.,  0.,  0.,\n",
       "         0.,  0.,  0.,  0.,  0.,  0.,  0.,  0.,  0.,  0.,  1.]),\n",
       " array([0.00723888, 0.01709411, 0.02694933, 0.03680455, 0.04665977,\n",
       "        0.05651499, 0.06637022, 0.07622544, 0.08608066, 0.09593588,\n",
       "        0.10579111, 0.11564633, 0.12550155, 0.13535677, 0.145212  ,\n",
       "        0.15506722, 0.16492244, 0.17477766, 0.18463289, 0.19448811,\n",
       "        0.20434333, 0.21419855, 0.22405377, 0.233909  , 0.24376422,\n",
       "        0.25361944, 0.26347466, 0.27332989, 0.28318511, 0.29304033,\n",
       "        0.30289555, 0.31275078, 0.322606  , 0.33246122, 0.34231644,\n",
       "        0.35217166, 0.36202689, 0.37188211, 0.38173733, 0.39159255,\n",
       "        0.40144778, 0.411303  , 0.42115822, 0.43101344, 0.44086867,\n",
       "        0.45072389, 0.46057911, 0.47043433, 0.48028956, 0.49014478,\n",
       "        0.5       ]),\n",
       " <BarContainer object of 50 artists>)"
      ]
     },
     "execution_count": 126,
     "metadata": {},
     "output_type": "execute_result"
    },
    {
     "data": {
      "image/png": "[encoded data removed]",
      "text/plain": [
       "<Figure size 1080x432 with 1 Axes>"
      ]
     },
     "metadata": {
      "needs_background": "light"
     },
     "output_type": "display_data"
    }
   ],
   "source": [
    "import matplotlib.pyplot as plt\n",
    "fig, axes = plt.subplots(figsize = (15, 6))\n",
    "plt.title('Плотность вероятности')\n",
    "axes.set_xlabel('Вероятность', fontsize = 12)\n",
    "axes.set_ylabel('Кол-во', fontsize = 10)\n",
    "axes.tick_params(axis = 'x', labelsize = 8)\n",
    "axes.hist(p,  bins = 50)\n"
   ]
  },
  {
   "cell_type": "code",
   "execution_count": 135,
   "metadata": {},
   "outputs": [
    {
     "name": "stdout",
     "output_type": "stream",
     "text": [
      "Среднее: 0.02844046278713193\n",
      "Дисперсия: 0.003145046784393472\n",
      "Медиана: 0.012728787558188744\n"
     ]
    }
   ],
   "source": [
    "print('Среднее:', np.mean(p, axis = None)) \n",
    "print('Дисперсия:', np.var(p, axis = None))\n",
    "print('Медиана:', np.median(p, axis = None))      "
   ]
  },
  {
   "cell_type": "markdown",
   "metadata": {
    "id": "_6YnMFxzfS86"
   },
   "source": [
    "## Уровень 1:"
   ]
  },
  {
   "cell_type": "markdown",
   "metadata": {
    "id": "kCHPejMofn6b"
   },
   "source": [
    "- Задание 3:\n"
   ]
  },
  {
   "cell_type": "markdown",
   "metadata": {
    "id": "HfOQo_qkfmYC"
   },
   "source": [
    "Пусть брошены 3 уравновешенные монеты.\n",
    "\n",
    "Рассмотрим 3 события:\n",
    "\n",
    "A1 - монеты 1 и 2 упали одной и той же стороной;\n",
    "\n",
    "A2 - монеты 2 и 3 упали одной и той же стороной;\n",
    "\n",
    "A3 - монеты 1 и 3 упали одной и той же стороной.\n",
    "\n",
    "Покажите, почему эти 3 события (A1, A2, A3) являются попарно независимыми, но не являются независимыми в совокупности."
   ]
  },
  {
   "cell_type": "code",
   "execution_count": 148,
   "metadata": {},
   "outputs": [
    {
     "name": "stdout",
     "output_type": "stream",
     "text": [
      "0.0625 0.0625 0.0625\n",
      "0.000244140625\n"
     ]
    }
   ],
   "source": [
    "# Вероятность, что монета упала нужной стороной 0.5\n",
    "# Вероятность событиий А1, A2, A3:\n",
    "PA1 = PA2 = PA3 = 0.5 * 0.5\n",
    "# Совместная независимость\n",
    "PA1A2 = PA1*PA2\n",
    "PA2A3 = PA2*PA3\n",
    "PA1A3 = PA1*PA3\n",
    "print(PA1A2, PA2A3, PA1A3)\n",
    "# Если все 3 совместно независимы, то PA1A2A3 = PA1A2*PA2A3*PA1A3 = PA1PA2\n",
    "PA1A2A3 = PA1A2*PA2A3*PA1A3\n",
    "print(PA1A2A3)"
   ]
  },
  {
   "cell_type": "markdown",
   "metadata": {},
   "source": [
    "Cобытия (A1, A2, A3) являются попарно независимыми, но не являются независимыми в совокупности."
   ]
  },
  {
   "cell_type": "markdown",
   "metadata": {
    "id": "S29TzpYSfmaC"
   },
   "source": [
    "- Задание 4 (формула полной вероятности):\n"
   ]
  },
  {
   "cell_type": "markdown",
   "metadata": {
    "id": "tDprfzp-fmcP"
   },
   "source": [
    "В магазин привезли устройства с 3-х разных предприятий. \n",
    "\n",
    "Соотношение устройств следующее: 20% - продукция первого предприятия, 30% - продукция второго предприятия, 50% - продукция третьего предприятия; далее, 10% продукции первого предприятия высшего сорта, на втором предприятии - 5% и на третьем - 20% продукции высшего сорта. \n",
    "\n",
    "Найти вероятность того, что случайно купленная новая продукция окажется высшего сорта."
   ]
  },
  {
   "cell_type": "code",
   "execution_count": 149,
   "metadata": {},
   "outputs": [
    {
     "data": {
      "text/plain": [
       "0.135"
      ]
     },
     "execution_count": 149,
     "metadata": {},
     "output_type": "execute_result"
    }
   ],
   "source": [
    "# b - событие, что куплено устройство вышего сорта\n",
    "# a1, а2, а3 - события, что куплено устройство с соответствующего предприятия\n",
    "pa1 = 0.2 # вероятность, что устройство с соответствующего предприятия\n",
    "pa2 = 0.3\n",
    "pa3 = 0.5\n",
    "pba1 = 0.1\n",
    "pba2 = 0.05\n",
    "pba3 = 0.2\n",
    "\n",
    "p = pa1*pba1 + pa2*pba2 + pa3*pba3\n",
    "p"
   ]
  }
 ],
 "metadata": {
  "colab": {
   "name": "HW_7",
   "provenance": []
  },
  "kernelspec": {
   "display_name": "Python 3",
   "language": "python",
   "name": "python3"
  },
  "language_info": {
   "codemirror_mode": {
    "name": "ipython",
    "version": 3
   },
   "file_extension": ".py",
   "mimetype": "text/x-python",
   "name": "python",
   "nbconvert_exporter": "python",
   "pygments_lexer": "ipython3",
   "version": "3.8.3"
  }
 },
 "nbformat": 4,
 "nbformat_minor": 4
}
